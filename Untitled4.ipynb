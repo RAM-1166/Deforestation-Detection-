{
  "nbformat": 4,
  "nbformat_minor": 0,
  "metadata": {
    "colab": {
      "provenance": [],
      "mount_file_id": "1bv3z0UVLiYlQPxBa9cc7MwDKuLjOMwY2",
      "authorship_tag": "ABX9TyNqdhC9UEf7E9rFO2/fNFyn",
      "include_colab_link": true
    },
    "kernelspec": {
      "name": "python3",
      "display_name": "Python 3"
    },
    "language_info": {
      "name": "python"
    }
  },
  "cells": [
    {
      "cell_type": "markdown",
      "metadata": {
        "id": "view-in-github",
        "colab_type": "text"
      },
      "source": [
        "<a href=\"https://colab.research.google.com/github/RAM-1166/Deforestation-Detection-/blob/main/Untitled4.ipynb\" target=\"_parent\"><img src=\"https://colab.research.google.com/assets/colab-badge.svg\" alt=\"Open In Colab\"/></a>"
      ]
    },
    {
      "cell_type": "code",
      "execution_count": 6,
      "metadata": {
        "colab": {
          "base_uri": "https://localhost:8080/"
        },
        "id": "83-CN33z6CJ5",
        "outputId": "943e2297-0bc4-41ff-8d77-612961d03b64"
      },
      "outputs": [
        {
          "output_type": "stream",
          "name": "stdout",
          "text": [
            "Moviepy - Building video short_video_11.mp4.\n",
            "MoviePy - Writing audio in short_video_11TEMP_MPY_wvf_snd.mp4\n"
          ]
        },
        {
          "output_type": "stream",
          "name": "stderr",
          "text": []
        },
        {
          "output_type": "stream",
          "name": "stdout",
          "text": [
            "MoviePy - Done.\n",
            "Moviepy - Writing video short_video_11.mp4\n",
            "\n"
          ]
        },
        {
          "output_type": "stream",
          "name": "stderr",
          "text": []
        },
        {
          "output_type": "stream",
          "name": "stdout",
          "text": [
            "Moviepy - Done !\n",
            "Moviepy - video ready short_video_11.mp4\n"
          ]
        }
      ],
      "source": [
        "import cv2\n",
        "import numpy as np\n",
        "from moviepy.editor import VideoFileClip, concatenate_videoclips, AudioFileClip, CompositeVideoClip, TextClip\n",
        "\n",
        "\n",
        "def crop_to_9_16(frame, width, height):\n",
        "    \"\"\"Crop a frame to 9:16 aspect ratio.\"\"\"\n",
        "    new_width = int(height * 9 / 16)\n",
        "    x_center = width // 2\n",
        "    x_start = max(0, x_center - new_width // 2)\n",
        "    return frame[:, x_start:x_start + new_width]\n",
        "\n",
        "\n",
        "def add_text_to_frame(frame, text, position, font_size, color=(255, 255, 255)):\n",
        "    \"\"\"Add dynamic text overlays to the frame.\"\"\"\n",
        "    overlay = np.copy(frame)\n",
        "    font = cv2.FONT_HERSHEY_SIMPLEX\n",
        "    thickness = 2\n",
        "    cv2.putText(overlay, text, position, font, font_size, color, thickness, cv2.LINE_AA)\n",
        "    return overlay\n",
        "\n",
        "\n",
        "def add_text_and_crop(input_video, start, end, text, output_video):\n",
        "    \"\"\"Add text overlays and crop video frames to 9:16.\"\"\"\n",
        "    cap = cv2.VideoCapture(input_video)\n",
        "    fps = int(cap.get(cv2.CAP_PROP_FPS))\n",
        "    width = int(cap.get(cv2.CAP_PROP_FRAME_WIDTH))\n",
        "    height = int(cap.get(cv2.CAP_PROP_FRAME_HEIGHT))\n",
        "    fourcc = cv2.VideoWriter_fourcc(*'mp4v')\n",
        "\n",
        "    out = cv2.VideoWriter(output_video, fourcc, fps, (int(height * 9 / 16), height))\n",
        "    frame_count = 0\n",
        "    start_frame = int(start * fps)\n",
        "    end_frame = int(end * fps)\n",
        "\n",
        "    while cap.isOpened():\n",
        "        ret, frame = cap.read()\n",
        "        if not ret:\n",
        "            break\n",
        "\n",
        "        if start_frame <= frame_count <= end_frame:\n",
        "            frame = crop_to_9_16(frame, width, height)\n",
        "            frame = add_text_to_frame(frame, text, (50, height - 100), 1.2)\n",
        "            out.write(frame)\n",
        "\n",
        "        frame_count += 1\n",
        "\n",
        "    cap.release()\n",
        "    out.release()\n",
        "\n",
        "\n",
        "def process_video(input_video, clips, output_video, music_file=None):\n",
        "    \"\"\"Process video clips and add music and transitions.\"\"\"\n",
        "    processed_clips = []\n",
        "\n",
        "    for idx, (start, end) in enumerate(clips):\n",
        "        temp_output = f\"temp_clip_{idx}.mp4\"\n",
        "        text = f\"Highlight {idx + 1}\"\n",
        "        add_text_and_crop(input_video, start, end, text, temp_output)\n",
        "        temp_clip = VideoFileClip(temp_output).subclip(0, end - start)\n",
        "        processed_clips.append(temp_clip)\n",
        "\n",
        "    final_video = concatenate_videoclips(processed_clips, method=\"compose\")\n",
        "\n",
        "    if music_file:\n",
        "        music = AudioFileClip(music_file).set_duration(final_video.duration)\n",
        "        final_video = final_video.set_audio(music)\n",
        "\n",
        "    final_video.write_videofile(output_video, fps=40, codec=\"libx264\", audio_codec=\"aac\")\n",
        "\n",
        "\n",
        "# Example Usage\n",
        "input_video_path = \"/content/drive/MyDrive/New Robot Makes Soldiers Obsolete (Corridor Digital).mp4\"\n",
        "interesting_clips = [\n",
        "    (38, 45),\n",
        "    (100, 110),\n",
        "    (206, 227),\n",
        "]\n",
        "output_video_path = \"short_video_11.mp4\"\n",
        "music_path = \"/content/drive/MyDrive/stylish-upbeat-commercial-advertising-funk-267753.mp3\"\n",
        "\n",
        "process_video(input_video_path, interesting_clips, output_video_path, music_file=music_path)\n"
      ]
    }
  ]
}